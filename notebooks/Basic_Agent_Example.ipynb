{
  "nbformat": 4,
  "nbformat_minor": 0,
  "metadata": {
    "colab": {
      "provenance": []
    },
    "kernelspec": {
      "name": "python3",
      "display_name": "Python 3"
    },
    "language_info": {
      "name": "python"
    }
  },
  "cells": [
    {
      "cell_type": "markdown",
      "source": [
        "## Install requirements"
      ],
      "metadata": {
        "id": "-FwCJOqEQJUB"
      }
    },
    {
      "cell_type": "code",
      "source": [
        "!pip install -q duckduckgo_search==7.2.1 openai==1.59.6"
      ],
      "metadata": {
        "id": "kfJYlxFVgJir",
        "colab": {
          "base_uri": "https://localhost:8080/"
        },
        "outputId": "f231a755-91c3-4474-e5d1-22ad97bf6a8f"
      },
      "execution_count": 1,
      "outputs": [
        {
          "output_type": "stream",
          "name": "stdout",
          "text": [
            "\u001b[2K   \u001b[90m━━━━━━━━━━━━━━━━━━━━━━━━━━━━━━━━━━━━━━━━\u001b[0m \u001b[32m3.3/3.3 MB\u001b[0m \u001b[31m12.5 MB/s\u001b[0m eta \u001b[36m0:00:00\u001b[0m\n",
            "\u001b[?25h"
          ]
        }
      ]
    },
    {
      "cell_type": "markdown",
      "source": [
        "## Setup Enviornment variables"
      ],
      "metadata": {
        "id": "CDKt6U0JmiOY"
      }
    },
    {
      "cell_type": "code",
      "source": [
        "import getpass\n",
        "import os\n",
        "\n",
        "os.environ[\"OPENAI_API_KEY\"] = \"<OPENAI_API_KEY>\"\n",
        "\n",
        "# from google.colab import userdata\n",
        "# os.environ[\"OPENAI_API_KEY\"] = userdata.get('openai_api_key')"
      ],
      "metadata": {
        "id": "p0QOcu-OYKw0"
      },
      "execution_count": 2,
      "outputs": []
    },
    {
      "cell_type": "markdown",
      "source": [
        "## Setting Up Tools"
      ],
      "metadata": {
        "id": "aEu_qYO4ghI3"
      }
    },
    {
      "cell_type": "code",
      "source": [
        "from duckduckgo_search import DDGS\n",
        "\n",
        "def search(query):\n",
        "    \"\"\"\n",
        "    perform a search on for the given query and return the results\n",
        "    :param query: the query to search for\n",
        "    :return: the search results\n",
        "    \"\"\"\n",
        "    response = DDGS().text(query, max_results=5)\n",
        "    results = [\n",
        "        {\"snippet\": r[\"body\"], \"title\": r[\"title\"], \"link\": r[\"href\"]}\n",
        "        for r in response\n",
        "    ]\n",
        "\n",
        "    formatted_results = \"\"\n",
        "    for result in results:\n",
        "        formatted_results += f\"Title: {result['title']}\\n\"\n",
        "        formatted_results += f\"Snippet: {result['snippet']}\\n\"\n",
        "        formatted_results += \"----\\n\"\n",
        "\n",
        "    return formatted_results\n"
      ],
      "metadata": {
        "id": "-hrcnzMEiPBx"
      },
      "execution_count": 3,
      "outputs": []
    },
    {
      "cell_type": "code",
      "source": [
        "def evaluate_expression(operation: str) -> float:\n",
        "    \"\"\"\n",
        "    perform a calculation on the given operation and return the result\n",
        "    :param operation: the operation to perform, should be compatible to use with eval eg: operation: \"1+2\"\n",
        "    :return: the result of the operation\n",
        "    \"\"\"\n",
        "    return eval(operation)"
      ],
      "metadata": {
        "id": "7g6kAKbIsP6p"
      },
      "execution_count": 4,
      "outputs": []
    },
    {
      "cell_type": "code",
      "source": [
        "print(search(\"llama index\"))"
      ],
      "metadata": {
        "colab": {
          "base_uri": "https://localhost:8080/"
        },
        "id": "kzmjpvaBiARo",
        "outputId": "8aff9ba8-64c7-4f6f-be69-88d936663a2f"
      },
      "execution_count": 5,
      "outputs": [
        {
          "output_type": "stream",
          "name": "stdout",
          "text": [
            "Title: LlamaIndex - LlamaIndex\n",
            "Snippet: pip install llama-index Put some documents in a folder called data , then ask questions about them with our famous 5-line starter: from llama_index.core import VectorStoreIndex , SimpleDirectoryReader documents = SimpleDirectoryReader ( \"data\" ) . load_data () index = VectorStoreIndex . from_documents ( documents ) query_engine = index . as ...\n",
            "----\n",
            "Title: GitHub - run-llama/llama_index: LlamaIndex is the leading framework for ...\n",
            "Snippet: Starter: llama-index. A starter Python package that includes core LlamaIndex as well as a selection of integrations. Customized: llama-index-core. Install core LlamaIndex and add your chosen LlamaIndex integration packages on LlamaHub that are required for your application. There are over 300 LlamaIndex integration packages that work seamlessly ...\n",
            "----\n",
            "Title: llama-index · PyPI\n",
            "Snippet: Starter: llama-index. A starter Python package that includes core LlamaIndex as well as a selection of integrations. Customized: llama-index-core. Install core LlamaIndex and add your chosen LlamaIndex integration packages on LlamaHub that are required for your application. There are over 300 LlamaIndex integration packages that work seamlessly ...\n",
            "----\n",
            "Title: Framework — LlamaIndex - Build Knowledge Assistants over your ...\n",
            "Snippet: Pip install llama-index Documentation. npm install llamaindex Documentation. Open Source Learn and discuss Templates Eval Datasets Data Loaders Vector Stores LLMs Agent & Tools Integrations Core Framework. ... Store and index your data for different use cases. Integrate with 40+ vector store, document store, graph store, and SQL db providers ...\n",
            "----\n",
            "Title: LlamaIndex - Hugging Face\n",
            "Snippet: LlamaIndex is a project that provides a central interface to connect your LLM's with external data. Learn how to use LlamaIndex to build vector store indexes, query engines, and access data loaders and AGI projects.\n",
            "----\n",
            "\n"
          ]
        }
      ]
    },
    {
      "cell_type": "markdown",
      "source": [
        "## Creating Agent"
      ],
      "metadata": {
        "id": "MiLV8jjioV7U"
      }
    },
    {
      "cell_type": "code",
      "source": [
        "import re\n",
        "from openai import OpenAI\n",
        "\n",
        "class Agent:\n",
        "    def __init__(self, client: OpenAI, tools):\n",
        "        \"\"\"\n",
        "        Initialize the Agent class.\n",
        "\n",
        "        Args:\n",
        "        client (OpenAI): The OpenAI client instance.\n",
        "        tools (list): A list of tool functions.\n",
        "        \"\"\"\n",
        "        self.client = client\n",
        "        self.tools = tools\n",
        "        self.memory = []\n",
        "\n",
        "    def get_agent_prompt(self) -> str:\n",
        "        \"\"\"\n",
        "        Generate the agent prompt string.\n",
        "\n",
        "        Returns:\n",
        "        str: The agent prompt string.\n",
        "        \"\"\"\n",
        "        tools_str = \"\\n\".join(\n",
        "            [f\"Action:{tool.__name__}\\nAction Input:{tool.__doc__} \\n\" for tool in self.tools]\n",
        "        )\n",
        "        system_prompt = f\"\"\"\n",
        "        You run in a loop of Thought, Action, Observation.\n",
        "        At the end of the loop you output an Answer\n",
        "        Use Thought to describe your thoughts about the question you have been asked.\n",
        "        Use Action to run one of the actions available to you.\n",
        "        Observation will be the result of running those actions.\n",
        "\n",
        "        Your available actions are:\n",
        "          {tools_str}\n",
        "\n",
        "        Try to break the search query into multiple query for good results\n",
        "\n",
        "        Always return in this format\n",
        "        Question: the question\n",
        "        Thought: your thoughts about the question\n",
        "        Action: tool_name: the input to the action\n",
        "\n",
        "        Example session:\n",
        "        Question: New York is in which country?\n",
        "        Thought: I should search for new york in web\n",
        "        Action: search: new york\n",
        "\n",
        "        You will be called again with this:\n",
        "\n",
        "        Observation: New york is a city in the United States of America.\n",
        "\n",
        "        You then output:\n",
        "        Final Answer: New York is in the United States of America.\n",
        "        \"\"\"\n",
        "        return system_prompt\n",
        "\n",
        "    def add_agent_steps_in_memory(self, role: str, content: str) -> None:\n",
        "        \"\"\"\n",
        "        Add agent steps to memory.\n",
        "\n",
        "        Args:\n",
        "        role (str): The role of the agent step.\n",
        "        content (str): The content of the agent step.\n",
        "        \"\"\"\n",
        "        self.memory.append({\"role\": role, \"content\": content})\n",
        "\n",
        "    def invoke(self, user_input: str, max_iterations: int = 10) -> str:\n",
        "        \"\"\"\n",
        "        Invoke the agent.\n",
        "\n",
        "        Args:\n",
        "        user_input (str): The user input string.\n",
        "        max_iterations (int): The maximum number of iterations.\n",
        "\n",
        "        Returns:\n",
        "        str: The final answer.\n",
        "        \"\"\"\n",
        "        i = 0\n",
        "        self.add_agent_steps_in_memory(\"system\", self.get_agent_prompt())\n",
        "        current_message = user_input\n",
        "        tool_names = [tool.__name__ for tool in self.tools]\n",
        "\n",
        "        while i < max_iterations:\n",
        "            print(f\"Iteration: {i+1}\")\n",
        "            i += 1\n",
        "            self.add_agent_steps_in_memory(\"user\", current_message)\n",
        "            result = self.client.chat.completions.create(\n",
        "                messages=self.memory,\n",
        "                model=\"gpt-4o\",\n",
        "                temperature=0.2\n",
        "            )\n",
        "            agent_output = result.choices[0].message.content\n",
        "            print(agent_output)\n",
        "            self.add_agent_steps_in_memory(\"assistant\", agent_output)\n",
        "\n",
        "            if \"Action\" in agent_output:\n",
        "                action = re.findall(r\"Action: ([a-z_]+): (.+)\", agent_output, re.IGNORECASE)\n",
        "                print(action)\n",
        "                chosen_tool = action[0][0]\n",
        "                arg = action[0][1]\n",
        "\n",
        "                if chosen_tool in tool_names:\n",
        "                    result_tool = eval(f\"{chosen_tool}('{arg}')\")\n",
        "                    current_message = f\"Observation:\\n {result_tool}\"\n",
        "                    print(f\"chosen tool: {chosen_tool}\")\n",
        "                    print(f\"arg: {arg}\")\n",
        "                    print(current_message)\n",
        "                else:\n",
        "                    current_message = \"Observation: Tool not found\"\n",
        "                continue\n",
        "\n",
        "            print(\"----------------------------------------------------------\")\n",
        "\n",
        "            if \"Final Answer\" in agent_output:\n",
        "                return agent_output"
      ],
      "metadata": {
        "id": "jk3TxbcJnnKq"
      },
      "execution_count": 6,
      "outputs": []
    },
    {
      "cell_type": "code",
      "source": [
        "client = OpenAI(api_key = os.environ[\"OPENAI_API_KEY\"])\n",
        "tools = [search, evaluate_expression]\n",
        "agent = Agent(client, tools)\n",
        "output = agent.invoke(\"what is differnce between stock price of microsoft and nvidia in 2024? Which has higher stock price?\")\n",
        "print(f\"Final Output-> {output}\")"
      ],
      "metadata": {
        "colab": {
          "base_uri": "https://localhost:8080/"
        },
        "id": "nc6Zqqjuwqqz",
        "outputId": "3c35a5bd-efe9-4c94-f129-6fd86fda6dd3"
      },
      "execution_count": 7,
      "outputs": [
        {
          "output_type": "stream",
          "name": "stdout",
          "text": [
            "Iteration: 1\n",
            "Question: what is difference between stock price of microsoft and nvidia in 2024? Which has higher stock price?\n",
            "Thought: I need to search for the stock prices of Microsoft and Nvidia in 2024 to determine the difference and which one is higher.\n",
            "Action: search: Microsoft stock price 2024\n",
            "\n",
            "\n",
            "[('search', 'Microsoft stock price 2024')]\n",
            "chosen tool: search\n",
            "arg: Microsoft stock price 2024\n",
            "Observation:\n",
            " Title: Microsoft Corporation (MSFT) Stock Historical Prices & Data - Yahoo Finance\n",
            "Snippet: Discover historical prices for MSFT stock on Yahoo Finance. View daily, weekly or monthly format back to when Microsoft Corporation stock was issued.\n",
            "----\n",
            "Title: Microsoft (MSFT) Stock Forecast and Price Target 2025 - MarketBeat\n",
            "Snippet: 12/18/2024: Stifel Nicolaus Subscribe to MarketBeat All Access for the recommendation accuracy rating : Boost Target: Buy Buy: $475.00 $515.00 +13.93%: 12/18/2024: ... Microsoft's current stock price is $418.95, which is below the consensus price target of $511.62, indicating potential upside for investors looking to buy at a lower price. ...\n",
            "----\n",
            "Title: Microsoft Corporation (MSFT) Stock Forecast & Price Targets - Stock ...\n",
            "Snippet: The 30 analysts with 12-month price forecasts for Microsoft stock have an average target of 511.07, with a low estimate of 465 and a high estimate of 600. The average target predicts an increase of 19.12% from the current stock price of 429.03. ... FY 2024 FY 2025 FY 2026 FY 2027 FY 2028 FY 2029 ; Period Ending Jun 30, 2020 Jun 30, 2021 Jun 30 ...\n",
            "----\n",
            "Title: What is the current Price Target and Forecast for Microsoft (MSFT)\n",
            "Snippet: Based on short-term price targets offered by 39 analysts, the average price target for Microsoft comes to $510.26. The forecasts range from a low of $425.00 to a high of $600.00.\n",
            "----\n",
            "Title: Microsoft Stock Forecast 2025-2030 | Is MSFT a Good Buy? - Techopedia\n",
            "Snippet: Microsoft's stock price hit an all-time high of $466.73 on July 5, 2024, due to its association with OpenAI and the release of AI-enhanced Microsoft 365 Copilot. Microsoft's latest results revealed that revenue had increased 15% to $64.7 billion in the fourth quarter ended June 30, 2024.\n",
            "----\n",
            "\n",
            "Iteration: 2\n",
            "Action: search: Nvidia stock price 2024\n",
            "[('search', 'Nvidia stock price 2024')]\n",
            "chosen tool: search\n",
            "arg: Nvidia stock price 2024\n",
            "Observation:\n",
            " Title: NVIDIA Corporation (NVDA) Stock Forecast & Price Targets - Stock Analysis\n",
            "Snippet: The 40 analysts with 12-month price forecasts for NVIDIA stock have an average target of 167.85, with a low estimate of 87 and a high estimate of 220. The average target predicts an increase of 21.89% from the current stock price of 137.71. ... FY 2024 FY 2025 FY 2026 FY 2027 FY 2028 FY 2029 FY 2030 ; Period Ending Jan 26, 2020 Jan 31, 2021 Jan ...\n",
            "----\n",
            "Title: Nvidia Stock Price Prediction 2025, 2026, 2030, 2040, 2050\n",
            "Snippet: Investors love Nvidia's unique goods and strong market position; therefore, many speculate about its stock prospects. This article will analyze Nvidia stock price estimates for 2024, 2025, 2030, 2040, and 2050, earnings, expert forecasts, and bull and bear justifications for investing in the firm.\n",
            "----\n",
            "Title: NVIDIA (NVDA) Stock Forecast and Price Target 2025 - MarketBeat\n",
            "Snippet: 11/22/2024: Phillip Securities Subscribe to MarketBeat All Access for the recommendation accuracy rating: ... According to the research reports of 43 Wall Street equities research analysts, the average twelve-month stock price forecast for NVIDIA is $164.63, with a high forecast of $220.00 and a low forecast of $85.00. ...\n",
            "----\n",
            "Title: Prediction: Nvidia Will Jump Over 20% By the End of 2024 After Its Big ...\n",
            "Snippet: The factors behind Nvidia's recent share price decline aren't as bad as they might seem. ... I predict Nvidia stock will jump by more than 20% by the end of 2024 after its big sell-off.\n",
            "----\n",
            "Title: Nvidia (NVDA) Stock Forecast & Price Predictions for 2025, 2026, 2027 ...\n",
            "Snippet: According to GovCapital, the average Nvidia stock price could increase to $114.52 per share by the end of 2024. At the same time, the lowest possible price could be $89.82 and the highest possible price may reach $131.70 per share.\n",
            "----\n",
            "\n",
            "Iteration: 3\n",
            "Thought: I have found the stock prices for both Microsoft and Nvidia in 2024. Microsoft's stock price was around $466.73, while Nvidia's stock price was estimated to be between $114.52 and $131.70. Now, I need to calculate the difference and determine which has the higher stock price.\n",
            "\n",
            "Action: evaluate_expression: 466.73 - 131.70\n",
            "[('evaluate_expression', '466.73 - 131.70')]\n",
            "chosen tool: evaluate_expression\n",
            "arg: 466.73 - 131.70\n",
            "Observation:\n",
            " 335.03000000000003\n",
            "Iteration: 4\n",
            "Final Answer: In 2024, Microsoft's stock price was significantly higher than Nvidia's. The difference between Microsoft's stock price ($466.73) and Nvidia's highest estimated stock price ($131.70) was approximately $335.03. Therefore, Microsoft had the higher stock price in 2024.\n",
            "----------------------------------------------------------\n",
            "Final Output-> Final Answer: In 2024, Microsoft's stock price was significantly higher than Nvidia's. The difference between Microsoft's stock price ($466.73) and Nvidia's highest estimated stock price ($131.70) was approximately $335.03. Therefore, Microsoft had the higher stock price in 2024.\n"
          ]
        }
      ]
    },
    {
      "cell_type": "code",
      "source": [],
      "metadata": {
        "id": "uxaGwXtQky74"
      },
      "execution_count": 7,
      "outputs": []
    }
  ]
}